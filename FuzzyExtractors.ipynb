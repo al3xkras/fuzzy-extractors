{
 "cells": [
  {
   "cell_type": "markdown",
   "source": [
    "# Fuzzy Extractors"
   ],
   "metadata": {
    "collapsed": false
   }
  },
  {
   "cell_type": "markdown",
   "source": [
    "Example of the primary hash distribution:\n",
    "\n",
    "- For a valid input data:\n",
    "  <pre>\n",
    "        1)\n",
    "        b'\\n\\xd7\\xa3p=\\n\\xa7\\xbfH\\xe1z\\x14\\xaeG\\xc1?\\n\\xd7\\xa3p=\\n\\xa7?333333\\xb3\\xbf': 1187,\n",
    "        b'\\n\\xd7\\xa3p=\\n\\xa7\\xbf\\xe1z\\x14\\xaeG\\xe1\\xba?\\n\\xd7\\xa3p=\\n\\xa7?333333\\xb3\\xbf': 313\n",
    "\n",
    "        2)\n",
    "        b'\\n\\xd7\\xa3p=\\n\\xa7\\xbfH\\xe1z\\x14\\xaeG\\xc1?\\n\\xd7\\xa3p=\\n\\xa7?333333\\xb3\\xbf': 1469,\n",
    "        b'\\n\\xd7\\xa3p=\\n\\xa7\\xbfH\\xe1z\\x14\\xaeG\\xc1?\\xb8\\x1e\\x85\\xebQ\\xb8\\x8e?333333\\xb3\\xbf': 31\n",
    "  </pre>\n",
    "\n",
    "- For the invalid input (e.g. a set of photos of a person from the street):\n",
    "    <pre>\n",
    "        1)\n",
    "        b'\\n\\xd7\\xa3p=\\n\\xa7\\xbf\\xe1z\\x14\\xaeG\\xe1\\xba?\\xb8\\x1e\\x85\\xebQ\\xb8\\x8e?333333\\xb3\\xbf': 95,\n",
    "        b'\\n\\xd7\\xa3p=\\n\\xa7\\xbf\\xe1z\\x14\\xaeG\\xe1\\xba?\\n\\xd7\\xa3p=\\n\\xa7?333333\\xb3\\xbf': 941,\n",
    "        b'333333\\xb3\\xbf\\xe1z\\x14\\xaeG\\xe1\\xba?\\n\\xd7\\xa3p=\\n\\xa7?333333\\xb3\\xbf': 349,\n",
    "        b'333333\\xb3\\xbf\\xe1z\\x14\\xaeG\\xe1\\xba?\\xb8\\x1e\\x85\\xebQ\\xb8\\x8e?333333\\xb3\\xbf': 106,\n",
    "        b'\\n\\xd7\\xa3p=\\n\\xa7\\xbfH\\xe1z\\x14\\xaeG\\xc1?\\n\\xd7\\xa3p=\\n\\xa7?333333\\xb3\\xbf': 6,\n",
    "        b'333333\\xb3\\xbfH\\xe1z\\x14\\xaeG\\xc1?\\n\\xd7\\xa3p=\\n\\xa7?333333\\xb3\\xbf': 3\n",
    "    </pre>"
   ],
   "metadata": {
    "collapsed": false
   }
  },
  {
   "cell_type": "markdown",
   "source": [
    "Error-correction codes:\n",
    "\n",
    " Def: The central idea is that the sender encodes the message in a redundant way, most often by using an error correction code or error correcting code, (ECC).[4][5] The redundancy allows the receiver not only to detect errors that may occur anywhere in the message, but often to correct a limited number of errors. Therefore a reverse channel to request re-transmission may not be needed. The cost is a fixed, higher forward channel bandwidth.\n",
    "\n",
    "- The idea of the ECC unfortunately cannot be used in this project for correcting errors, because the face vector does not contain any check-bits (each bit of the face vector is informative), which are important in the construction of error-resistant codes.\n",
    "\n",
    "Therefore, in order to correct the errors"
   ],
   "metadata": {
    "collapsed": false
   }
  },
  {
   "cell_type": "code",
   "execution_count": null,
   "outputs": [],
   "source": [],
   "metadata": {
    "collapsed": false
   }
  }
 ],
 "metadata": {
  "kernelspec": {
   "display_name": "Python 3",
   "language": "python",
   "name": "python3"
  },
  "language_info": {
   "codemirror_mode": {
    "name": "ipython",
    "version": 2
   },
   "file_extension": ".py",
   "mimetype": "text/x-python",
   "name": "python",
   "nbconvert_exporter": "python",
   "pygments_lexer": "ipython2",
   "version": "2.7.6"
  }
 },
 "nbformat": 4,
 "nbformat_minor": 0
}
